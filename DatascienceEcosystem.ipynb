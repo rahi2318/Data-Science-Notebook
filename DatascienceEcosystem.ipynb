{
 "cells": [
  {
   "cell_type": "markdown",
   "id": "cdf4b40c",
   "metadata": {},
   "source": [
    "<H1> Data Science Tools and Ecosystem <H1>"
   ]
  },
  {
   "cell_type": "markdown",
   "id": "169abda3",
   "metadata": {},
   "source": [
    "## Introduction \n",
    "- In this notebook, Data Science Tools and Ecosystem are summarized.\n",
    "\n",
    "## Objectives\n",
    "- Some of the popular languages that Data Scientists use are:\n",
    "- Some of the commonly used libraries used by Data Scientists include:\n",
    "- Data Science Tools\n",
    "- Arithmetic Operation in python "
   ]
  },
  {
   "cell_type": "markdown",
   "id": "9a634e4f",
   "metadata": {},
   "source": [
    "### Some of the popular languages that Data Scientists use are:\n",
    "1. Python \n",
    "2. R \n",
    "3. Scala\n",
    "4. SQL\n",
    "5. Julia\n",
    "6. java\n",
    "7. C++\n"
   ]
  },
  {
   "cell_type": "markdown",
   "id": "888730f5",
   "metadata": {},
   "source": [
    "### Some of the commonly used libraries used by Data Scientists include:\n",
    "1. Pandas\n",
    "2. Numpy\n",
    "3. Matplotlib \n",
    "4. Seaborn\n",
    "5. Scikit-learn"
   ]
  },
  {
   "cell_type": "markdown",
   "id": "a1590c49",
   "metadata": {},
   "source": [
    "| Data Science Tools |\n",
    "-------------------------\n",
    "| Juputer Notebook |\n",
    "| Rstudio |\n",
    "| Spyder |\n",
    "\n"
   ]
  },
  {
   "cell_type": "markdown",
   "id": "d7167555",
   "metadata": {},
   "source": [
    "<H3> Below are a few examples of evaluating arithmetic expressions in Python <H3>"
   ]
  },
  {
   "cell_type": "code",
   "execution_count": 9,
   "id": "9910d54c",
   "metadata": {},
   "outputs": [
    {
     "data": {
      "text/plain": [
       "17"
      ]
     },
     "execution_count": 9,
     "metadata": {},
     "output_type": "execute_result"
    }
   ],
   "source": [
    "# This a simple arithmetic expression to mutiply then add integers\n",
    "(3*4)+ 5"
   ]
  },
  {
   "cell_type": "code",
   "execution_count": 10,
   "id": "4dbf4dd1",
   "metadata": {},
   "outputs": [
    {
     "name": "stdout",
     "output_type": "stream",
     "text": [
      "200 minutes is equal to 3.3333333333333335 hours\n"
     ]
    }
   ],
   "source": [
    "# This will convert 200 minutes to hours by diving by 60\n",
    "minutes = 200\n",
    "hours = minutes / 60\n",
    "print(f\"{minutes} minutes is equal to {hours} hours\")\n"
   ]
  },
  {
   "cell_type": "markdown",
   "id": "3ab9b604",
   "metadata": {},
   "source": [
    "<H2> Author <H2>\n",
    "    Patel Rahi Chandreshbhai\n"
   ]
  }
 ],
 "metadata": {
  "kernelspec": {
   "display_name": "Python 3 (ipykernel)",
   "language": "python",
   "name": "python3"
  },
  "language_info": {
   "codemirror_mode": {
    "name": "ipython",
    "version": 3
   },
   "file_extension": ".py",
   "mimetype": "text/x-python",
   "name": "python",
   "nbconvert_exporter": "python",
   "pygments_lexer": "ipython3",
   "version": "3.11.4"
  }
 },
 "nbformat": 4,
 "nbformat_minor": 5
}
